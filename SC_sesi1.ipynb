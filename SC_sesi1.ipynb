{
  "nbformat": 4,
  "nbformat_minor": 0,
  "metadata": {
    "colab": {
      "provenance": [],
      "authorship_tag": "ABX9TyObxAByl4YprmAtCi/r94Q5",
      "include_colab_link": true
    },
    "kernelspec": {
      "name": "python3",
      "display_name": "Python 3"
    },
    "language_info": {
      "name": "python"
    }
  },
  "cells": [
    {
      "cell_type": "markdown",
      "metadata": {
        "id": "view-in-github",
        "colab_type": "text"
      },
      "source": [
        "<a href=\"https://colab.research.google.com/github/Prabandari0607/SC-Lab-Prabandari/blob/main/SC_sesi1.ipynb\" target=\"_parent\"><img src=\"https://colab.research.google.com/assets/colab-badge.svg\" alt=\"Open In Colab\"/></a>"
      ]
    },
    {
      "cell_type": "code",
      "execution_count": null,
      "metadata": {
        "colab": {
          "base_uri": "https://localhost:8080/"
        },
        "id": "D6TJ4mgBjGIa",
        "outputId": "cd2af215-ca7d-4940-c651-ec22d210dab7"
      },
      "outputs": [
        {
          "output_type": "stream",
          "name": "stdout",
          "text": [
            "Hello World\n"
          ]
        }
      ],
      "source": [
        "print (\"Hello World\")"
      ]
    },
    {
      "cell_type": "code",
      "source": [
        "import time"
      ],
      "metadata": {
        "id": "AxHsT1h2jkHe"
      },
      "execution_count": null,
      "outputs": []
    },
    {
      "cell_type": "code",
      "source": [
        "print(time.ctime())"
      ],
      "metadata": {
        "colab": {
          "base_uri": "https://localhost:8080/"
        },
        "id": "E-JGgglujsF8",
        "outputId": "cae67a44-7ea4-4d1c-b2ef-e928ad7e802e"
      },
      "execution_count": null,
      "outputs": [
        {
          "output_type": "stream",
          "name": "stdout",
          "text": [
            "Thu Feb  6 04:41:10 2025\n"
          ]
        }
      ]
    },
    {
      "cell_type": "code",
      "source": [
        "z = \"Hello\"\n",
        "y = 4\n",
        "x = 3.9\n",
        "f = [\"Apple\", \"Berry\"]\n",
        "x, y, z, f"
      ],
      "metadata": {
        "colab": {
          "base_uri": "https://localhost:8080/"
        },
        "id": "tta5objgkXK1",
        "outputId": "b4d65190-d36b-41fb-9816-a38978d9dcae"
      },
      "execution_count": null,
      "outputs": [
        {
          "output_type": "execute_result",
          "data": {
            "text/plain": [
              "(3.9, 4, 'Hello', ['Apple', 'Berry'])"
            ]
          },
          "metadata": {},
          "execution_count": 6
        }
      ]
    },
    {
      "cell_type": "code",
      "source": [
        "o = int(1)\n",
        "y = int(2.8)\n",
        "z = int(\"3\") #type casting\n",
        "j = str(20)\n",
        "\n",
        "o,y,z,j\n",
        "\n",
        "print (o, y, z, j)"
      ],
      "metadata": {
        "colab": {
          "base_uri": "https://localhost:8080/"
        },
        "id": "K7mf4oJMk8cv",
        "outputId": "6bbf08a9-353f-4fb1-cc66-6f8bcf7f7303"
      },
      "execution_count": null,
      "outputs": [
        {
          "output_type": "stream",
          "name": "stdout",
          "text": [
            "1 2 3 20\n"
          ]
        }
      ]
    },
    {
      "cell_type": "markdown",
      "source": [
        "type casting, digunakan untuk mengubah suatu tipe data"
      ],
      "metadata": {
        "id": "fgDua5N3lmv7"
      }
    },
    {
      "cell_type": "code",
      "source": [
        "a = \"Hello World \"\n",
        "b = \"Good Morning\"\n",
        "c = a+b\n",
        "\n",
        "print(c)\n"
      ],
      "metadata": {
        "colab": {
          "base_uri": "https://localhost:8080/"
        },
        "id": "cRTbDN8Kly_r",
        "outputId": "4707204f-d60d-476b-c095-70957ea4ba36"
      },
      "execution_count": null,
      "outputs": [
        {
          "output_type": "stream",
          "name": "stdout",
          "text": [
            "Hello World Good Morning\n"
          ]
        }
      ]
    },
    {
      "cell_type": "code",
      "source": [
        "a =\"Hello World\"\n",
        "\n",
        "print(a[3])\n",
        "\n",
        "print(len(a))"
      ],
      "metadata": {
        "colab": {
          "base_uri": "https://localhost:8080/"
        },
        "id": "TF1O_z_9mEc7",
        "outputId": "a022e926-34b5-46b3-d44d-bff04534962f"
      },
      "execution_count": null,
      "outputs": [
        {
          "output_type": "stream",
          "name": "stdout",
          "text": [
            "l\n",
            "11\n"
          ]
        }
      ]
    },
    {
      "cell_type": "code",
      "source": [
        "b = \"BINUS univ\"\n",
        "print(b[2:5])\n",
        "\n",
        "c = \"BINUS univ\"\n",
        "print(c[:5])\n",
        "\n",
        "d = \"BINUS univ\"\n",
        "print(d[2:])"
      ],
      "metadata": {
        "colab": {
          "base_uri": "https://localhost:8080/"
        },
        "id": "ur2oE5pImeUT",
        "outputId": "a1ceaf9a-bb6d-4200-f7f7-675a88cc3daa"
      },
      "execution_count": null,
      "outputs": [
        {
          "output_type": "stream",
          "name": "stdout",
          "text": [
            "NUS\n",
            "BINUS\n",
            "NUS univ\n"
          ]
        }
      ]
    },
    {
      "cell_type": "code",
      "source": [
        "a = \"Hello\"\n",
        "print(a.upper())\n",
        "\n",
        "b = \"Hello\"\n",
        "print(b.lower())\n",
        "a = \"Hello\"\n",
        "print(a.upper())\n",
        "\n",
        "b = \"Hello\"\n",
        "print(b.lower())\n",
        "\n",
        "c = \"Hello\"\n",
        "print(c.replace(\"H\", \"J\"))"
      ],
      "metadata": {
        "colab": {
          "base_uri": "https://localhost:8080/"
        },
        "id": "YSv5fUvLnicb",
        "outputId": "f145acf3-45b0-4cd2-d238-5896c79ccdfa"
      },
      "execution_count": null,
      "outputs": [
        {
          "output_type": "stream",
          "name": "stdout",
          "text": [
            "HELLO\n",
            "hello\n",
            "HELLO\n",
            "hello\n",
            "Jello\n"
          ]
        }
      ]
    },
    {
      "cell_type": "code",
      "source": [
        "nama = \"sam\"\n",
        "x = 19\n",
        "string = \"nama saya {} , umurku {}\"\n",
        "\n",
        "print(string.format(nama,x))"
      ],
      "metadata": {
        "colab": {
          "base_uri": "https://localhost:8080/"
        },
        "id": "JqHhcIcvop_p",
        "outputId": "2ec8d427-a994-400a-fe1c-bf16406b1621"
      },
      "execution_count": null,
      "outputs": [
        {
          "output_type": "stream",
          "name": "stdout",
          "text": [
            "nama saya sam , umurku 19\n"
          ]
        }
      ]
    },
    {
      "cell_type": "code",
      "source": [
        "nama = \"grace\"\n",
        "for i in enumerate(nama):\n",
        "  print(i)"
      ],
      "metadata": {
        "colab": {
          "base_uri": "https://localhost:8080/"
        },
        "id": "v9IXUs3spLlv",
        "outputId": "9b7bfbb0-db21-4bfe-a912-79e57b320af5"
      },
      "execution_count": null,
      "outputs": [
        {
          "output_type": "stream",
          "name": "stdout",
          "text": [
            "(0, 'g')\n",
            "(1, 'r')\n",
            "(2, 'a')\n",
            "(3, 'c')\n",
            "(4, 'e')\n"
          ]
        }
      ]
    },
    {
      "cell_type": "code",
      "source": [
        "def perbandingan (a,b):\n",
        "  if a>b:\n",
        "    print(\"a lebih dari b\")\n",
        "  elif a<b:\n",
        "    print(\"a kurang dari b\")\n",
        "  else:\n",
        "    print(\"a = b\")"
      ],
      "metadata": {
        "id": "w4m9hD8tpjv1"
      },
      "execution_count": null,
      "outputs": []
    },
    {
      "cell_type": "code",
      "source": [
        "perbandingan(67,87)"
      ],
      "metadata": {
        "colab": {
          "base_uri": "https://localhost:8080/"
        },
        "id": "sLjyM5trqDG1",
        "outputId": "6f3a3768-5db6-4fe0-f758-42c5fdf03df5"
      },
      "execution_count": null,
      "outputs": [
        {
          "output_type": "stream",
          "name": "stdout",
          "text": [
            "a kurang dari b\n"
          ]
        }
      ]
    },
    {
      "cell_type": "markdown",
      "source": [],
      "metadata": {
        "id": "8Ffpa9W7niBU"
      }
    },
    {
      "cell_type": "code",
      "source": [
        "i=1\n",
        "while i<6:\n",
        "  print(i)\n",
        "\n",
        "  i+=1"
      ],
      "metadata": {
        "colab": {
          "base_uri": "https://localhost:8080/"
        },
        "id": "zO3kd5L-qTke",
        "outputId": "1c75ef0e-669c-46ad-f739-f8767491ff50"
      },
      "execution_count": null,
      "outputs": [
        {
          "output_type": "stream",
          "name": "stdout",
          "text": [
            "1\n",
            "2\n",
            "3\n",
            "4\n",
            "5\n"
          ]
        }
      ]
    },
    {
      "cell_type": "code",
      "source": [
        "i=3\n",
        "for i in range(2,6):\n",
        "  print(i)"
      ],
      "metadata": {
        "colab": {
          "base_uri": "https://localhost:8080/"
        },
        "id": "ciJSQmS8rbAl",
        "outputId": "eb0989b4-ed85-4dd4-8d4f-b51b801beb08"
      },
      "execution_count": null,
      "outputs": [
        {
          "output_type": "stream",
          "name": "stdout",
          "text": [
            "2\n",
            "3\n",
            "4\n",
            "5\n"
          ]
        }
      ]
    },
    {
      "cell_type": "markdown",
      "source": [],
      "metadata": {
        "id": "Ux5C-yxbk8FX"
      }
    },
    {
      "cell_type": "code",
      "source": [
        "for i in range(2,41):\n",
        "  if i % 2==0:\n",
        "     print(i, \"genap\")\n",
        "  else:\n",
        "    print(i, \"ganjil\")\n"
      ],
      "metadata": {
        "colab": {
          "base_uri": "https://localhost:8080/"
        },
        "id": "czA7_zngsDl_",
        "outputId": "753ef544-6a12-40c3-c824-bb3f13182021"
      },
      "execution_count": null,
      "outputs": [
        {
          "output_type": "stream",
          "name": "stdout",
          "text": [
            "2 genap\n",
            "3 ganjil\n",
            "4 genap\n",
            "5 ganjil\n",
            "6 genap\n",
            "7 ganjil\n",
            "8 genap\n",
            "9 ganjil\n",
            "10 genap\n",
            "11 ganjil\n",
            "12 genap\n",
            "13 ganjil\n",
            "14 genap\n",
            "15 ganjil\n",
            "16 genap\n",
            "17 ganjil\n",
            "18 genap\n",
            "19 ganjil\n",
            "20 genap\n",
            "21 ganjil\n",
            "22 genap\n",
            "23 ganjil\n",
            "24 genap\n",
            "25 ganjil\n",
            "26 genap\n",
            "27 ganjil\n",
            "28 genap\n",
            "29 ganjil\n",
            "30 genap\n",
            "31 ganjil\n",
            "32 genap\n",
            "33 ganjil\n",
            "34 genap\n",
            "35 ganjil\n",
            "36 genap\n",
            "37 ganjil\n",
            "38 genap\n",
            "39 ganjil\n",
            "40 genap\n"
          ]
        }
      ]
    },
    {
      "cell_type": "code",
      "source": [
        "import numpy as np"
      ],
      "metadata": {
        "id": "WzIbwNE3u5YE"
      },
      "execution_count": null,
      "outputs": []
    },
    {
      "cell_type": "code",
      "source": [
        "x = np.array([[1, 2, 3], [6,7,8]])\n",
        "x"
      ],
      "metadata": {
        "colab": {
          "base_uri": "https://localhost:8080/"
        },
        "id": "BCe7F57gu9X7",
        "outputId": "b54a983c-dc76-4e6c-c24e-a37ffdbd3a30"
      },
      "execution_count": null,
      "outputs": [
        {
          "output_type": "execute_result",
          "data": {
            "text/plain": [
              "array([[1, 2, 3],\n",
              "       [6, 7, 8]])"
            ]
          },
          "metadata": {},
          "execution_count": 37
        }
      ]
    },
    {
      "cell_type": "code",
      "source": [
        "y = np.array([[4, 2, 5], [6,9,8]])\n",
        "y"
      ],
      "metadata": {
        "colab": {
          "base_uri": "https://localhost:8080/"
        },
        "id": "yo34NTBZvu7N",
        "outputId": "b5493220-b080-4164-fe45-b64e527501b9"
      },
      "execution_count": null,
      "outputs": [
        {
          "output_type": "execute_result",
          "data": {
            "text/plain": [
              "array([[4, 2, 5],\n",
              "       [6, 9, 8]])"
            ]
          },
          "metadata": {},
          "execution_count": 38
        }
      ]
    },
    {
      "cell_type": "code",
      "source": [
        "print(x+y)"
      ],
      "metadata": {
        "colab": {
          "base_uri": "https://localhost:8080/"
        },
        "id": "0J7JOSmlv3Ks",
        "outputId": "e10ce120-0cfa-49ef-d84e-ef22b5deff18"
      },
      "execution_count": null,
      "outputs": [
        {
          "output_type": "stream",
          "name": "stdout",
          "text": [
            "[[ 5  4  8]\n",
            " [12 16 16]]\n"
          ]
        }
      ]
    },
    {
      "cell_type": "code",
      "source": [
        "data = np.array([10, 8, 5, 7, 6])\n",
        "print(\"Rata-rata:\", np.mean(data))\n",
        "print(\"Maksimum:\", np.max(data))\n",
        "print(\"Minimum:\", np.min(data))\n",
        "print(\"Standar devisiasi:\", np.std(data))"
      ],
      "metadata": {
        "colab": {
          "base_uri": "https://localhost:8080/"
        },
        "id": "nzDhGTCqwDyE",
        "outputId": "625b2667-6ec4-45d7-8632-37bc74715979"
      },
      "execution_count": null,
      "outputs": [
        {
          "output_type": "stream",
          "name": "stdout",
          "text": [
            "Rata-rata: 7.2\n",
            "Maksimum: 10\n",
            "Minimum: 5\n",
            "Standar devisiasi: 1.7204650534085253\n"
          ]
        }
      ]
    },
    {
      "cell_type": "code",
      "source": [],
      "metadata": {
        "id": "re3uW5IH0L75"
      },
      "execution_count": null,
      "outputs": []
    },
    {
      "cell_type": "code",
      "source": [
        "username = input(\"Masukkan username anda: \")\n",
        "password_benar = \"Admin123\"\n",
        "\n",
        "while True:\n",
        " password = input(\"Masukkan password anda: \")\n",
        " if password == password_benar:\n",
        "  print(f\"Login berhasil, Selamat datang {username}\")\n",
        "  break\n",
        " else\n",
        "  print(\"Tolong masukkan data yang valid\")\n",
        "\n",
        "nama = input(\"Masukkan nama siswa:\")\n",
        "UAS = int(input(\"Masukkan nilai UAS: \"))\n",
        "UTS = int(input(\"Masukkan nilai UTS: \"))\n",
        "Assignment = int(input(\"Masukkan nilai Assignment: \"))\n",
        "grades =(UAS*0.5) + (UTS*0.3) + (Assignment*0.2)\n",
        "\n",
        "print(\"\\ngranding system\")\n",
        "print(\"---------------------\")\n",
        "string = \"hasil perolehan nilai {}\"\n",
        "print(string.format(nama))\n",
        "string = \"Final scores: {}\"\n",
        "print(string.format(grades))\n",
        "\n",
        "if 90<= grades <=100:\n",
        "  final = 'A'\n",
        "elif 85<= grades <=89:\n",
        "  final = 'A-'\n",
        "elif 80<= grades <=84:\n",
        "  final = 'B+'\n",
        "elif 75<= grades <=79:\n",
        "  final = 'B'\n",
        "elif 70<= grades <=74:\n",
        "  final = 'B-'\n",
        "elif 65<= grades <=69:\n",
        "  final = 'C'\n",
        "elif 60<= grades <=64:\n",
        "  final = 'D'\n",
        "elif 11<= grades <=59:\n",
        "  final = 'E'\n",
        "else:\n",
        "  final = 'F'\n",
        "string = \"Grade {}\"\n",
        "print(string.format(final))\n",
        "\n"
      ],
      "metadata": {
        "colab": {
          "base_uri": "https://localhost:8080/"
        },
        "id": "rwba4UK6Rl31",
        "outputId": "22c67c38-d3a0-43fa-cdc9-ae476c1a1629"
      },
      "execution_count": null,
      "outputs": [
        {
          "output_type": "stream",
          "name": "stdout",
          "text": [
            "Masukkan username anda: tya0607\n",
            "Masukkan password anda: araya123\n",
            "Tolong masukkan data yang valid\n",
            "Masukkan password anda: Admin123\n",
            "Login berhasil, Selamat tya0607\n",
            "Masukkan nama siswa:yasin\n",
            "Masukkan nilai UAS: 100\n",
            "Masukkan nilai UTS: 90\n",
            "Masukkan nilai Assignment: 89\n",
            "\n",
            "granding system\n",
            "---------------------\n",
            "hasil perolehan nilai yasin\n",
            "Final scores: 94.8\n",
            "Grade A\n"
          ]
        }
      ]
    }
  ]
}