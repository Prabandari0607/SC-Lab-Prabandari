{
  "cells": [
    {
      "cell_type": "markdown",
      "metadata": {
        "id": "view-in-github",
        "colab_type": "text"
      },
      "source": [
        "<a href=\"https://colab.research.google.com/github/Prabandari0607/SC-Lab-Prabandari/blob/main/datavidia.ipynb\" target=\"_parent\"><img src=\"https://colab.research.google.com/assets/colab-badge.svg\" alt=\"Open In Colab\"/></a>"
      ]
    },
    {
      "cell_type": "code",
      "execution_count": 1,
      "metadata": {
        "id": "1REQVAJIuf9d"
      },
      "outputs": [],
      "source": [
        "import pandas as pd\n",
        "import numpy as np\n",
        "import matplotlib.pyplot as plt\n",
        "import glob\n",
        "import os"
      ]
    },
    {
      "cell_type": "code",
      "execution_count": 2,
      "metadata": {
        "colab": {
          "base_uri": "https://localhost:8080/",
          "height": 537
        },
        "id": "jr_9sSu-2c8s",
        "outputId": "175581c5-7c83-4def-f15a-19b6d5235644"
      },
      "outputs": [
        {
          "output_type": "display_data",
          "data": {
            "text/plain": [
              "<IPython.core.display.HTML object>"
            ],
            "text/html": [
              "\n",
              "     <input type=\"file\" id=\"files-b5d283e0-19d1-4c67-b356-c199dcd13f34\" name=\"files[]\" multiple disabled\n",
              "        style=\"border:none\" />\n",
              "     <output id=\"result-b5d283e0-19d1-4c67-b356-c199dcd13f34\">\n",
              "      Upload widget is only available when the cell has been executed in the\n",
              "      current browser session. Please rerun this cell to enable.\n",
              "      </output>\n",
              "      <script>// Copyright 2017 Google LLC\n",
              "//\n",
              "// Licensed under the Apache License, Version 2.0 (the \"License\");\n",
              "// you may not use this file except in compliance with the License.\n",
              "// You may obtain a copy of the License at\n",
              "//\n",
              "//      http://www.apache.org/licenses/LICENSE-2.0\n",
              "//\n",
              "// Unless required by applicable law or agreed to in writing, software\n",
              "// distributed under the License is distributed on an \"AS IS\" BASIS,\n",
              "// WITHOUT WARRANTIES OR CONDITIONS OF ANY KIND, either express or implied.\n",
              "// See the License for the specific language governing permissions and\n",
              "// limitations under the License.\n",
              "\n",
              "/**\n",
              " * @fileoverview Helpers for google.colab Python module.\n",
              " */\n",
              "(function(scope) {\n",
              "function span(text, styleAttributes = {}) {\n",
              "  const element = document.createElement('span');\n",
              "  element.textContent = text;\n",
              "  for (const key of Object.keys(styleAttributes)) {\n",
              "    element.style[key] = styleAttributes[key];\n",
              "  }\n",
              "  return element;\n",
              "}\n",
              "\n",
              "// Max number of bytes which will be uploaded at a time.\n",
              "const MAX_PAYLOAD_SIZE = 100 * 1024;\n",
              "\n",
              "function _uploadFiles(inputId, outputId) {\n",
              "  const steps = uploadFilesStep(inputId, outputId);\n",
              "  const outputElement = document.getElementById(outputId);\n",
              "  // Cache steps on the outputElement to make it available for the next call\n",
              "  // to uploadFilesContinue from Python.\n",
              "  outputElement.steps = steps;\n",
              "\n",
              "  return _uploadFilesContinue(outputId);\n",
              "}\n",
              "\n",
              "// This is roughly an async generator (not supported in the browser yet),\n",
              "// where there are multiple asynchronous steps and the Python side is going\n",
              "// to poll for completion of each step.\n",
              "// This uses a Promise to block the python side on completion of each step,\n",
              "// then passes the result of the previous step as the input to the next step.\n",
              "function _uploadFilesContinue(outputId) {\n",
              "  const outputElement = document.getElementById(outputId);\n",
              "  const steps = outputElement.steps;\n",
              "\n",
              "  const next = steps.next(outputElement.lastPromiseValue);\n",
              "  return Promise.resolve(next.value.promise).then((value) => {\n",
              "    // Cache the last promise value to make it available to the next\n",
              "    // step of the generator.\n",
              "    outputElement.lastPromiseValue = value;\n",
              "    return next.value.response;\n",
              "  });\n",
              "}\n",
              "\n",
              "/**\n",
              " * Generator function which is called between each async step of the upload\n",
              " * process.\n",
              " * @param {string} inputId Element ID of the input file picker element.\n",
              " * @param {string} outputId Element ID of the output display.\n",
              " * @return {!Iterable<!Object>} Iterable of next steps.\n",
              " */\n",
              "function* uploadFilesStep(inputId, outputId) {\n",
              "  const inputElement = document.getElementById(inputId);\n",
              "  inputElement.disabled = false;\n",
              "\n",
              "  const outputElement = document.getElementById(outputId);\n",
              "  outputElement.innerHTML = '';\n",
              "\n",
              "  const pickedPromise = new Promise((resolve) => {\n",
              "    inputElement.addEventListener('change', (e) => {\n",
              "      resolve(e.target.files);\n",
              "    });\n",
              "  });\n",
              "\n",
              "  const cancel = document.createElement('button');\n",
              "  inputElement.parentElement.appendChild(cancel);\n",
              "  cancel.textContent = 'Cancel upload';\n",
              "  const cancelPromise = new Promise((resolve) => {\n",
              "    cancel.onclick = () => {\n",
              "      resolve(null);\n",
              "    };\n",
              "  });\n",
              "\n",
              "  // Wait for the user to pick the files.\n",
              "  const files = yield {\n",
              "    promise: Promise.race([pickedPromise, cancelPromise]),\n",
              "    response: {\n",
              "      action: 'starting',\n",
              "    }\n",
              "  };\n",
              "\n",
              "  cancel.remove();\n",
              "\n",
              "  // Disable the input element since further picks are not allowed.\n",
              "  inputElement.disabled = true;\n",
              "\n",
              "  if (!files) {\n",
              "    return {\n",
              "      response: {\n",
              "        action: 'complete',\n",
              "      }\n",
              "    };\n",
              "  }\n",
              "\n",
              "  for (const file of files) {\n",
              "    const li = document.createElement('li');\n",
              "    li.append(span(file.name, {fontWeight: 'bold'}));\n",
              "    li.append(span(\n",
              "        `(${file.type || 'n/a'}) - ${file.size} bytes, ` +\n",
              "        `last modified: ${\n",
              "            file.lastModifiedDate ? file.lastModifiedDate.toLocaleDateString() :\n",
              "                                    'n/a'} - `));\n",
              "    const percent = span('0% done');\n",
              "    li.appendChild(percent);\n",
              "\n",
              "    outputElement.appendChild(li);\n",
              "\n",
              "    const fileDataPromise = new Promise((resolve) => {\n",
              "      const reader = new FileReader();\n",
              "      reader.onload = (e) => {\n",
              "        resolve(e.target.result);\n",
              "      };\n",
              "      reader.readAsArrayBuffer(file);\n",
              "    });\n",
              "    // Wait for the data to be ready.\n",
              "    let fileData = yield {\n",
              "      promise: fileDataPromise,\n",
              "      response: {\n",
              "        action: 'continue',\n",
              "      }\n",
              "    };\n",
              "\n",
              "    // Use a chunked sending to avoid message size limits. See b/62115660.\n",
              "    let position = 0;\n",
              "    do {\n",
              "      const length = Math.min(fileData.byteLength - position, MAX_PAYLOAD_SIZE);\n",
              "      const chunk = new Uint8Array(fileData, position, length);\n",
              "      position += length;\n",
              "\n",
              "      const base64 = btoa(String.fromCharCode.apply(null, chunk));\n",
              "      yield {\n",
              "        response: {\n",
              "          action: 'append',\n",
              "          file: file.name,\n",
              "          data: base64,\n",
              "        },\n",
              "      };\n",
              "\n",
              "      let percentDone = fileData.byteLength === 0 ?\n",
              "          100 :\n",
              "          Math.round((position / fileData.byteLength) * 100);\n",
              "      percent.textContent = `${percentDone}% done`;\n",
              "\n",
              "    } while (position < fileData.byteLength);\n",
              "  }\n",
              "\n",
              "  // All done.\n",
              "  yield {\n",
              "    response: {\n",
              "      action: 'complete',\n",
              "    }\n",
              "  };\n",
              "}\n",
              "\n",
              "scope.google = scope.google || {};\n",
              "scope.google.colab = scope.google.colab || {};\n",
              "scope.google.colab._files = {\n",
              "  _uploadFiles,\n",
              "  _uploadFilesContinue,\n",
              "};\n",
              "})(self);\n",
              "</script> "
            ]
          },
          "metadata": {}
        },
        {
          "output_type": "error",
          "ename": "KeyboardInterrupt",
          "evalue": "",
          "traceback": [
            "\u001b[0;31m---------------------------------------------------------------------------\u001b[0m",
            "\u001b[0;31mKeyboardInterrupt\u001b[0m                         Traceback (most recent call last)",
            "\u001b[0;32m<ipython-input-2-21dc3c638f66>\u001b[0m in \u001b[0;36m<cell line: 0>\u001b[0;34m()\u001b[0m\n\u001b[1;32m      1\u001b[0m \u001b[0;32mfrom\u001b[0m \u001b[0mgoogle\u001b[0m\u001b[0;34m.\u001b[0m\u001b[0mcolab\u001b[0m \u001b[0;32mimport\u001b[0m \u001b[0mfiles\u001b[0m\u001b[0;34m\u001b[0m\u001b[0;34m\u001b[0m\u001b[0m\n\u001b[0;32m----> 2\u001b[0;31m \u001b[0muploaded\u001b[0m \u001b[0;34m=\u001b[0m \u001b[0mfiles\u001b[0m\u001b[0;34m.\u001b[0m\u001b[0mupload\u001b[0m\u001b[0;34m(\u001b[0m\u001b[0;34m)\u001b[0m\u001b[0;34m\u001b[0m\u001b[0;34m\u001b[0m\u001b[0m\n\u001b[0m",
            "\u001b[0;32m/usr/local/lib/python3.11/dist-packages/google/colab/files.py\u001b[0m in \u001b[0;36mupload\u001b[0;34m(target_dir)\u001b[0m\n\u001b[1;32m     70\u001b[0m   \"\"\"\n\u001b[1;32m     71\u001b[0m \u001b[0;34m\u001b[0m\u001b[0m\n\u001b[0;32m---> 72\u001b[0;31m   \u001b[0muploaded_files\u001b[0m \u001b[0;34m=\u001b[0m \u001b[0m_upload_files\u001b[0m\u001b[0;34m(\u001b[0m\u001b[0mmultiple\u001b[0m\u001b[0;34m=\u001b[0m\u001b[0;32mTrue\u001b[0m\u001b[0;34m)\u001b[0m\u001b[0;34m\u001b[0m\u001b[0;34m\u001b[0m\u001b[0m\n\u001b[0m\u001b[1;32m     73\u001b[0m   \u001b[0;31m# Mapping from original filename to filename as saved locally.\u001b[0m\u001b[0;34m\u001b[0m\u001b[0;34m\u001b[0m\u001b[0m\n\u001b[1;32m     74\u001b[0m   \u001b[0mlocal_filenames\u001b[0m \u001b[0;34m=\u001b[0m \u001b[0mdict\u001b[0m\u001b[0;34m(\u001b[0m\u001b[0;34m)\u001b[0m\u001b[0;34m\u001b[0m\u001b[0;34m\u001b[0m\u001b[0m\n",
            "\u001b[0;32m/usr/local/lib/python3.11/dist-packages/google/colab/files.py\u001b[0m in \u001b[0;36m_upload_files\u001b[0;34m(multiple)\u001b[0m\n\u001b[1;32m    162\u001b[0m \u001b[0;34m\u001b[0m\u001b[0m\n\u001b[1;32m    163\u001b[0m   \u001b[0;31m# First result is always an indication that the file picker has completed.\u001b[0m\u001b[0;34m\u001b[0m\u001b[0;34m\u001b[0m\u001b[0m\n\u001b[0;32m--> 164\u001b[0;31m   result = _output.eval_js(\n\u001b[0m\u001b[1;32m    165\u001b[0m       'google.colab._files._uploadFiles(\"{input_id}\", \"{output_id}\")'.format(\n\u001b[1;32m    166\u001b[0m           \u001b[0minput_id\u001b[0m\u001b[0;34m=\u001b[0m\u001b[0minput_id\u001b[0m\u001b[0;34m,\u001b[0m \u001b[0moutput_id\u001b[0m\u001b[0;34m=\u001b[0m\u001b[0moutput_id\u001b[0m\u001b[0;34m\u001b[0m\u001b[0;34m\u001b[0m\u001b[0m\n",
            "\u001b[0;32m/usr/local/lib/python3.11/dist-packages/google/colab/output/_js.py\u001b[0m in \u001b[0;36meval_js\u001b[0;34m(script, ignore_result, timeout_sec)\u001b[0m\n\u001b[1;32m     38\u001b[0m   \u001b[0;32mif\u001b[0m \u001b[0mignore_result\u001b[0m\u001b[0;34m:\u001b[0m\u001b[0;34m\u001b[0m\u001b[0;34m\u001b[0m\u001b[0m\n\u001b[1;32m     39\u001b[0m     \u001b[0;32mreturn\u001b[0m\u001b[0;34m\u001b[0m\u001b[0;34m\u001b[0m\u001b[0m\n\u001b[0;32m---> 40\u001b[0;31m   \u001b[0;32mreturn\u001b[0m \u001b[0m_message\u001b[0m\u001b[0;34m.\u001b[0m\u001b[0mread_reply_from_input\u001b[0m\u001b[0;34m(\u001b[0m\u001b[0mrequest_id\u001b[0m\u001b[0;34m,\u001b[0m \u001b[0mtimeout_sec\u001b[0m\u001b[0;34m)\u001b[0m\u001b[0;34m\u001b[0m\u001b[0;34m\u001b[0m\u001b[0m\n\u001b[0m\u001b[1;32m     41\u001b[0m \u001b[0;34m\u001b[0m\u001b[0m\n\u001b[1;32m     42\u001b[0m \u001b[0;34m\u001b[0m\u001b[0m\n",
            "\u001b[0;32m/usr/local/lib/python3.11/dist-packages/google/colab/_message.py\u001b[0m in \u001b[0;36mread_reply_from_input\u001b[0;34m(message_id, timeout_sec)\u001b[0m\n\u001b[1;32m     94\u001b[0m     \u001b[0mreply\u001b[0m \u001b[0;34m=\u001b[0m \u001b[0m_read_next_input_message\u001b[0m\u001b[0;34m(\u001b[0m\u001b[0;34m)\u001b[0m\u001b[0;34m\u001b[0m\u001b[0;34m\u001b[0m\u001b[0m\n\u001b[1;32m     95\u001b[0m     \u001b[0;32mif\u001b[0m \u001b[0mreply\u001b[0m \u001b[0;34m==\u001b[0m \u001b[0m_NOT_READY\u001b[0m \u001b[0;32mor\u001b[0m \u001b[0;32mnot\u001b[0m \u001b[0misinstance\u001b[0m\u001b[0;34m(\u001b[0m\u001b[0mreply\u001b[0m\u001b[0;34m,\u001b[0m \u001b[0mdict\u001b[0m\u001b[0;34m)\u001b[0m\u001b[0;34m:\u001b[0m\u001b[0;34m\u001b[0m\u001b[0;34m\u001b[0m\u001b[0m\n\u001b[0;32m---> 96\u001b[0;31m       \u001b[0mtime\u001b[0m\u001b[0;34m.\u001b[0m\u001b[0msleep\u001b[0m\u001b[0;34m(\u001b[0m\u001b[0;36m0.025\u001b[0m\u001b[0;34m)\u001b[0m\u001b[0;34m\u001b[0m\u001b[0;34m\u001b[0m\u001b[0m\n\u001b[0m\u001b[1;32m     97\u001b[0m       \u001b[0;32mcontinue\u001b[0m\u001b[0;34m\u001b[0m\u001b[0;34m\u001b[0m\u001b[0m\n\u001b[1;32m     98\u001b[0m     if (\n",
            "\u001b[0;31mKeyboardInterrupt\u001b[0m: "
          ]
        }
      ],
      "source": [
        "from google.colab import files\n",
        "uploaded = files.upload()"
      ]
    },
    {
      "cell_type": "code",
      "execution_count": null,
      "metadata": {
        "id": "HKlnu_COLS08"
      },
      "outputs": [],
      "source": [
        "!unzip -qqo comodity-price-prediction-penyisihan-arkavidia-9.zip -d folder_datavidia"
      ]
    },
    {
      "cell_type": "code",
      "execution_count": null,
      "metadata": {
        "id": "Q2q6rliWMIWW"
      },
      "outputs": [],
      "source": [
        "import os\n",
        "\n",
        "train_folder_path = \"/content/folder_datavidia/Harga Bahan Pangan/train\"\n",
        "all_train_files = glob.glob(os.path.join(train_folder_path, \"*.csv\"))\n",
        "\n",
        "test_folder_path = \"/content/folder_datavidia/Harga Bahan Pangan/test\"\n",
        "all_test_files = glob.glob(os.path.join(test_folder_path, \"*.csv\"))\n"
      ]
    },
    {
      "cell_type": "markdown",
      "metadata": {
        "id": "0mJY9pyGYylA"
      },
      "source": [
        "import os : mengimpor modul os yang memungkinkan kita berinteraksi dengan sistem operasi, seperti menggabungkan path dll\n",
        "\n",
        "train_folder_path : menyimpan lokasi folder yang berisi train, lokasi nya ada di /content/xxxxx\n",
        "\n",
        "os.path.join(test_folder_path, \"*.csv): menggabungkan path folder dengan pola .csv, yg artinya semua file dengan ekstensi .csv di folder tersebut.\n",
        "\n",
        "glob.glob() : untuk mencari semua file sesuai dengan pola tersebut, lalu mengembalikannya dalam bentuk list yang isinya adalah path lengkap dari file yg cocok\n"
      ]
    },
    {
      "cell_type": "code",
      "execution_count": null,
      "metadata": {
        "id": "Y2T9HMLnvW0y"
      },
      "outputs": [],
      "source": [
        "dfs_train = [] #list kosong untuk menyimpan semua data dari file\n",
        "for file_path in all_train_files: #mulai loop, ambil satu satu file dari daftar all_train_files\n",
        "    df = pd.read_csv(file_path) #baca satu file\n",
        "\n",
        "    df['Date'] = pd.to_datetime(df['Date']) #konversi kolom 'Date' ke tipe data datetime\n",
        "    df['jenis_bahan'] = os.path.basename(file_path).replace('.csv', '')\n",
        "    dfs_train.append(df) #tambahkan ke list"
      ]
    },
    {
      "cell_type": "code",
      "execution_count": null,
      "metadata": {
        "id": "sKuTuDM0cShG"
      },
      "outputs": [],
      "source": [
        "dfs_test = []\n",
        "for file in all_test_files:\n",
        "    df = pd.read_csv(file)\n",
        "    df['Date'] = pd.to_datetime(df['Date']) #konversi kolom 'Date' ke tipe data datetime\n",
        "    # Tambahkan kolom untuk menandai jenis bahan pangan\n",
        "    df['jenis_bahan'] = os.path.basename(file).replace('.csv', '')\n",
        "    dfs_test.append(df)\n"
      ]
    },
    {
      "cell_type": "code",
      "execution_count": null,
      "metadata": {
        "id": "GjbltEgHwPwh"
      },
      "outputs": [],
      "source": [
        "combined_train_df = pd.concat(dfs_train, ignore_index=True)"
      ]
    },
    {
      "cell_type": "code",
      "execution_count": null,
      "metadata": {
        "id": "nqe6EY8-wSHV"
      },
      "outputs": [],
      "source": [
        "combined_test_df = pd.concat(dfs_test, ignore_index=True)"
      ]
    },
    {
      "cell_type": "code",
      "execution_count": null,
      "metadata": {
        "id": "LJbiGaEG0qiS"
      },
      "outputs": [],
      "source": [
        "print(f\"Jumlah file csv dalam folder train: {len(all_train_files)}\")\n",
        "print(f\"Jumlah file csv dalam folder test: {len(all_test_files)}\")"
      ]
    },
    {
      "cell_type": "code",
      "execution_count": null,
      "metadata": {
        "id": "3Z_ArTmCwWpa"
      },
      "outputs": [],
      "source": [
        "missing_values = combined_train_df.isna().sum()\n",
        "print(missing_values)"
      ]
    },
    {
      "cell_type": "code",
      "execution_count": null,
      "metadata": {
        "id": "yAxIgttMwnBs"
      },
      "outputs": [],
      "source": [
        "missing_values = combined_test_df.isna().sum()\n",
        "print(missing_values)"
      ]
    },
    {
      "cell_type": "code",
      "execution_count": null,
      "metadata": {
        "id": "nIrI_DUZjgPX"
      },
      "outputs": [],
      "source": [
        "combined_train_df.describe()"
      ]
    },
    {
      "cell_type": "code",
      "execution_count": null,
      "metadata": {
        "id": "NwQj903ekiPj"
      },
      "outputs": [],
      "source": [
        "combined_train_df.columns"
      ]
    },
    {
      "cell_type": "code",
      "execution_count": null,
      "metadata": {
        "id": "t8bgyXY6qOaq"
      },
      "outputs": [],
      "source": [
        "mean_train = combined_train_df.mean(numeric_only=True)"
      ]
    },
    {
      "cell_type": "code",
      "execution_count": null,
      "metadata": {
        "id": "0G8rVdoJqWMB"
      },
      "outputs": [],
      "source": [
        "combined_train_df.dtypes"
      ]
    },
    {
      "cell_type": "code",
      "execution_count": null,
      "metadata": {
        "id": "SbMx6BAx4iFe"
      },
      "outputs": [],
      "source": [
        "df_train = combined_train_df.copy()\n",
        "df_test = combined_test_df.copy()\n",
        "\n",
        "mean_train = df_train.mean(numeric_only=True)\n",
        "\n",
        "df_train.fillna(mean_train, inplace=True)"
      ]
    },
    {
      "cell_type": "code",
      "execution_count": null,
      "metadata": {
        "id": "SdHevj2z7V4C"
      },
      "outputs": [],
      "source": [
        "print(df_train.isna().sum())"
      ]
    },
    {
      "cell_type": "code",
      "execution_count": null,
      "metadata": {
        "id": "PQ5wqIip7iOy"
      },
      "outputs": [],
      "source": [
        "print(df_train.isnull().sum())"
      ]
    },
    {
      "cell_type": "code",
      "source": [
        "# Cek kolom apa aja yang dipakai buat hitung average_price\n",
        "provinsi_cols = df_train.columns.difference([\"Date\", \"jenis_bahan\"])\n",
        "print(\"Kolom harga provinsi:\", provinsi_cols.tolist())\n",
        "\n",
        "# Cek apakah semua kolom provinsi isinya bukan nol\n",
        "print(\"Jumlah nilai 0 di kolom provinsi:\")\n",
        "print((df_train[provinsi_cols] == 0).sum())\n",
        "\n",
        "# Hitung ulang average_price buat ngecek\n",
        "df_train[\"average_price\"] = df_train[provinsi_cols].mean(axis=1)\n",
        "\n",
        "# Cek apakah masih ada nilai 0\n",
        "print(\"Jumlah average_price == 0:\", (df_train[\"average_price\"] == 0).sum())\n",
        "print(df_train[\"average_price\"].describe())\n"
      ],
      "metadata": {
        "id": "GCrD3bt7i042"
      },
      "execution_count": null,
      "outputs": []
    },
    {
      "cell_type": "markdown",
      "source": [
        "# PERCOBAAN 2"
      ],
      "metadata": {
        "id": "4hXWEAnFc2-v"
      }
    },
    {
      "cell_type": "code",
      "source": [
        "import matplotlib.pyplot as plt\n",
        "import seaborn as sns\n",
        "\n",
        "df_train[\"Date\"] = pd.to_datetime(df_train[\"Date\"])\n",
        "\n",
        "#Loop setiap komoditas\n",
        "komoditas_list = df_train[\"jenis_bahan\"].unique()\n",
        "for jenis in komoditas_list:\n",
        "  df_komoditas = df_train[df_train[\"jenis_bahan\"] == jenis]\n",
        "  #ambil hanya kolom harga provinsi\n",
        "  provinsi_cols = df_komoditas.columns.difference([\"Date\", \"jenis_bahan\", \"average_price\",\"Days\"])\n",
        "  df_provinsi = df_komoditas[provinsi_cols]\n",
        "\n",
        "  #hitung korelasi\n",
        "  corr = df_provinsi.corr()\n",
        "\n",
        "  #plot heatmap\n",
        "  plt.figure(figsize=(14, 12))\n",
        "  sns.heatmap(corr, annot=True, cmap=\"coolwarm\", linewidths = 0.5)\n",
        "  plt.title(f\"Heatmap Korelasi Harga Komoditas - {jenis}\")\n",
        "  plt.show()\n"
      ],
      "metadata": {
        "id": "7u-We62dc2XQ"
      },
      "execution_count": null,
      "outputs": []
    },
    {
      "cell_type": "code",
      "source": [
        "import matplotlib.pyplot as plt\n",
        "import seaborn as sns\n",
        "plt.figure(figsize=(12, 6))\n",
        "# Select only numerical features for correlation calculation\n",
        "numerical_features = df_train.select_dtypes(include=['number']).columns[1:]\n",
        "sns.heatmap(df_train[numerical_features].corr(), cmap=\"coolwarm\", annot=False)\n",
        "plt.title(\"Heatmap Korelasi Harga Semua Komoditas\")\n",
        "plt.show()"
      ],
      "metadata": {
        "id": "IaCsS3RgGPOE"
      },
      "execution_count": null,
      "outputs": []
    },
    {
      "cell_type": "code",
      "source": [
        "import xgboost as xgb\n",
        "import pandas as pd\n",
        "import numpy as np\n",
        "from xgboost import XGBRegressor\n",
        "from sklearn.model_selection import train_test_split\n",
        "from sklearn.metrics import mean_absolute_percentage_error"
      ],
      "metadata": {
        "id": "htTpg3pvfcpl"
      },
      "execution_count": null,
      "outputs": []
    },
    {
      "cell_type": "code",
      "source": [
        "start_date = pd.to_datetime(\"2024-09-30\")\n",
        "\n",
        "mape_scores = {}\n",
        "submission_rows = []\n",
        "for jenis in df_train[\"jenis_bahan\"].unique():\n",
        "  df_target = df_train[df_train[\"jenis_bahan\"] == jenis].copy()\n",
        "   # Pastikan kolom Date dalam format datetime\n",
        "  df_target['Date'] = pd.to_datetime(df_target['Date'])\n",
        "  df_target['Days'] = (df_target['Date'] - start_date).dt.days\n",
        "\n",
        "  provinsi_cols = df_target.columns.difference([\"Date\", \"jenis_bahan\", \"average_price\", \"Days\"])\n",
        "\n",
        "  for prov in provinsi_cols:\n",
        "    try:\n",
        "      df_model= df_target[['Days', prov]].dropna()\n",
        "      if len(df_model) < 10:\n",
        "        continue\n",
        "      X = df_target[[\"Days\"]]\n",
        "      y = df_target[prov]\n",
        "\n",
        "      split = int(len(X) * 0.8)\n",
        "      X_train, X_val = X[:split], X[split:]\n",
        "      y_train, y_val = y[:split], y[split:]\n",
        "\n",
        "      model = xgb.XGBRegressor(objective=\"reg:squarederror\", random_state=42)\n",
        "      model.fit(X_train, y_train)\n",
        "\n",
        "      y_pred = model.predict(X_val)\n",
        "      mape = mean_absolute_percentage_error(y_val, y_pred)\n",
        "      mape_scores[f\"{jenis}- {prov}\"] = mape\n",
        "\n",
        "      #prediksi 92 hari kedepan\n",
        "      future_days = pd.DataFrame({\"Days\": range(1, 93)})\n",
        "      future_days[\"Date\"] = start_date + pd.to_timedelta(future_days[\"Days\"], unit=\"D\")\n",
        "      future_days[\"Predicted_Price\"] = model.predict(future_days[[\"Days\"]])\n",
        "\n",
        "      for _, row in future_days.iterrows():\n",
        "        id_string = f'{jenis}/{prov}/{row[\"Date\"].strftime(\"%Y-%m-%d\")}'\n",
        "        submission_rows.append({'id': id_string, 'price': row[\"Predicted_Price\"]})\n",
        "    except Exception as e:\n",
        "     print(f\"[ERROR] {jenis}- {prov}: {e}\")\n",
        "\n",
        "print(\"Prediksi selesai untuk semua komoditas!\")"
      ],
      "metadata": {
        "id": "LwYSlaWWfiNR"
      },
      "execution_count": null,
      "outputs": []
    },
    {
      "cell_type": "code",
      "source": [
        "# Urutkan MAPE dari yang paling kecil ke besar\n",
        "sorted_mape = sorted(mape_scores.items(), key=lambda x: x[1])\n",
        "\n",
        "# Tampilkan top 10 komoditas-provinsi dengan MAPE TERKECIL (model paling akurat)\n",
        "print(\"Top 10 prediksi terakurat (MAPE terendah):\")\n",
        "for item in sorted_mape[:10]:\n",
        "    print(f\"{item[0]}: {item[1]:.4f}\")\n",
        "\n",
        "# Tampilkan top 10 komoditas-provinsi dengan MAPE TERTINGGI (model paling kurang akurat)\n",
        "print(\"\\nTop 10 prediksi paling meleset (MAPE tertinggi):\")\n",
        "for item in sorted_mape[-10:]:\n",
        "    print(f\"{item[0]}: {item[1]:.4f}\")\n"
      ],
      "metadata": {
        "id": "y-W0hsrtlGcp"
      },
      "execution_count": null,
      "outputs": []
    },
    {
      "cell_type": "code",
      "source": [
        "# Export hasil prediksi\n",
        "submission_df = pd.DataFrame(submission_rows)\n",
        "submission_df.to_csv(\"submission_xgboost.csv\", index=False)\n",
        "\n",
        "# Simpan MAPE score\n",
        "mape_df = pd.DataFrame(mape_scores, columns=[\"Komoditas\", \"Provinsi\", \"MAPE\"])\n",
        "mape_df.to_csv(\"mape_scores.csv\", index=False)"
      ],
      "metadata": {
        "id": "xLVaYFSFlKkK"
      },
      "execution_count": null,
      "outputs": []
    }
  ],
  "metadata": {
    "colab": {
      "provenance": [],
      "authorship_tag": "ABX9TyMnO7uUTMoFRNIOoaUl2Iv1",
      "include_colab_link": true
    },
    "kernelspec": {
      "display_name": "Python 3",
      "name": "python3"
    },
    "language_info": {
      "name": "python"
    }
  },
  "nbformat": 4,
  "nbformat_minor": 0
}