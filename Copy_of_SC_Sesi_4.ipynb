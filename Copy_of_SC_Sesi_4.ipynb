{
  "nbformat": 4,
  "nbformat_minor": 0,
  "metadata": {
    "colab": {
      "provenance": [],
      "include_colab_link": true
    },
    "kernelspec": {
      "name": "python3",
      "display_name": "Python 3"
    },
    "language_info": {
      "name": "python"
    }
  },
  "cells": [
    {
      "cell_type": "markdown",
      "metadata": {
        "id": "view-in-github",
        "colab_type": "text"
      },
      "source": [
        "<a href=\"https://colab.research.google.com/github/Prabandari0607/SC-Lab-Prabandari/blob/main/Copy_of_SC_Sesi_4.ipynb\" target=\"_parent\"><img src=\"https://colab.research.google.com/assets/colab-badge.svg\" alt=\"Open In Colab\"/></a>"
      ]
    },
    {
      "cell_type": "code",
      "execution_count": 160,
      "metadata": {
        "id": "H9yLJqigFRbG"
      },
      "outputs": [],
      "source": [
        "import numpy as np\n",
        "\n",
        "def my_bisection(f, a, b, tol):\n",
        "\n",
        "  if np.sign(f(a)) == np.sign(f(b)):\n",
        "    raise Exception(\n",
        "        \"the scalars a and b do not bound a root\"\n",
        "    )\n",
        "\n",
        "  # buat mid poin / nilai tengah\n",
        "  m = (a+b)/2\n",
        "\n",
        "  if np.abs (f(m)) < tol:\n",
        "    return m\n",
        "  elif np.sign (f(a)) == np.sign(f(m)):\n",
        "    return my_bisection (f, m, b, tol)\n",
        "    # a diganti m agar kebagi 2\n",
        "  elif np.sign (f(b)) == np.sign(f(m)) :\n",
        "    return my_bisection (f, a, m, tol)\n"
      ]
    },
    {
      "cell_type": "code",
      "source": [
        "f = lambda x: x**2 - 2\n",
        "\n",
        "r1 = my_bisection (f, 0, 2, 0.1)\n",
        "print(\"r1 =\", r1)\n",
        "r01 = my_bisection(f,0, 2, 0.01)\n",
        "print (\"r01 = \", r01)\n",
        "\n",
        "print (\"f(r1) = \", f(r1))\n",
        "print (\"f(r01) = \", f(r01))"
      ],
      "metadata": {
        "colab": {
          "base_uri": "https://localhost:8080/"
        },
        "id": "RsWvXxwHHE7O",
        "outputId": "d6a36a46-a649-4b59-e151-9e62497736d9"
      },
      "execution_count": 161,
      "outputs": [
        {
          "output_type": "stream",
          "name": "stdout",
          "text": [
            "r1 = 1.4375\n",
            "r01 =  1.4140625\n",
            "f(r1) =  0.06640625\n",
            "f(r01) =  -0.00042724609375\n"
          ]
        }
      ]
    },
    {
      "cell_type": "markdown",
      "source": [
        "# Newton Raphson"
      ],
      "metadata": {
        "id": "Dm-LHSMIYQWn"
      }
    },
    {
      "cell_type": "code",
      "source": [
        "import numpy as np\n",
        "\n",
        "f = lambda x: x**2 - 2\n",
        "f_prime = lambda x: 2*x\n",
        "newton_raphson = 1.4 - (f(1.4) / (f_prime (1.4)))\n",
        "\n",
        "print (\"newton_raphson = \", newton_raphson)\n",
        "print (\"sqrt(2) = \", np.sqrt(2))\n",
        "\n"
      ],
      "metadata": {
        "colab": {
          "base_uri": "https://localhost:8080/"
        },
        "id": "1vynGJrCIVVW",
        "outputId": "e0e73c74-4362-4e8b-ad02-2ca9e3c62c2d"
      },
      "execution_count": 162,
      "outputs": [
        {
          "output_type": "stream",
          "name": "stdout",
          "text": [
            "newton_raphson =  1.4142857142857144\n",
            "sqrt(2) =  1.4142135623730951\n"
          ]
        }
      ]
    },
    {
      "cell_type": "code",
      "source": [
        "def my_newton (f, df, x0, tol):\n",
        "  if abs (f(x0)) < tol:\n",
        "    return x0\n",
        "  else :\n",
        "    return my_newton(f, df, x0 - f(x0)/df(x0), tol)"
      ],
      "metadata": {
        "id": "4smECpC_JNZn"
      },
      "execution_count": 163,
      "outputs": []
    },
    {
      "cell_type": "code",
      "source": [
        "estimate = my_newton (f, f_prime, 1.5, 1e-6)\n",
        "print (\"estimate = \", estimate)\n",
        "print (\"sqrt(2) = \", np.sqrt(2))\n"
      ],
      "metadata": {
        "colab": {
          "base_uri": "https://localhost:8080/"
        },
        "id": "FnAxoDbVJghv",
        "outputId": "6570f1a9-ac79-4056-81f8-2fe00ae7fd2e"
      },
      "execution_count": 164,
      "outputs": [
        {
          "output_type": "stream",
          "name": "stdout",
          "text": [
            "estimate =  1.4142135623746899\n",
            "sqrt(2) =  1.4142135623730951\n"
          ]
        }
      ]
    },
    {
      "cell_type": "code",
      "source": [
        "import numpy as np\n",
        "\n",
        "def my_bisection(f, a, b, tol):\n",
        "\n",
        "  if np.sign(f(a)) == np.sign(f(b)):\n",
        "    raise Exception(\n",
        "        \"the scalars a and b do not bound a root\"\n",
        "    )\n",
        "\n",
        "  # buat mid poin / nilai tengah\n",
        "  m = (a+b)/2\n",
        "\n",
        "  if np.abs (f(m)) < tol:\n",
        "    return m\n",
        "  elif np.sign (f(a)) == np.sign(f(m)):\n",
        "    return my_bisection (f, m, b, tol)\n",
        "    # a diganti m agar kebagi 2\n",
        "  elif np.sign (f(b)) == np.sign(f(m)) :\n",
        "    return my_bisection (f, a, m, tol)\n"
      ],
      "metadata": {
        "id": "jpUIm8-BLdVZ"
      },
      "execution_count": 165,
      "outputs": []
    },
    {
      "cell_type": "code",
      "source": [
        "f = lambda x: np.cos(x)-x\n",
        "tol = 0.0001\n",
        "r1 = my_bisection (f, 0, 1, tol)\n",
        "print(\"r1 =\", r1)"
      ],
      "metadata": {
        "id": "M7PjnAv9MOBw",
        "outputId": "1c82c28b-adfa-4871-c360-2ed4cf1cb734",
        "colab": {
          "base_uri": "https://localhost:8080/"
        }
      },
      "execution_count": 166,
      "outputs": [
        {
          "output_type": "stream",
          "name": "stdout",
          "text": [
            "r1 = 0.7391357421875\n"
          ]
        }
      ]
    },
    {
      "cell_type": "markdown",
      "source": [
        "# MODUL BISECTION"
      ],
      "metadata": {
        "id": "z8y03alHTAtW"
      }
    },
    {
      "cell_type": "code",
      "source": [
        "import numpy as np\n",
        "\n",
        "def my_bisection(f, a, b, tol):\n",
        "\n",
        "  if np.sign(f(a)) == np.sign(f(b)):\n",
        "    raise Exception(\n",
        "        \"the scalars a and b do not bound a root\"\n",
        "    )\n",
        "\n",
        "  # buat mid poin / nilai tengah\n",
        "  m = (a+b)/2\n",
        "\n",
        "  if np.abs (f(m)) < tol:\n",
        "    return m\n",
        "  elif np.sign (f(a)) == np.sign(f(m)):\n",
        "    return my_bisection (f, m, b, tol)\n",
        "    # a diganti m agar kebagi 2\n",
        "  elif np.sign (f(b)) == np.sign(f(m)) :\n",
        "    return my_bisection (f, a, m, tol)\n"
      ],
      "metadata": {
        "id": "LUpCmCf-TjgJ"
      },
      "execution_count": 167,
      "outputs": []
    },
    {
      "cell_type": "code",
      "source": [
        "f = lambda x: x**3-3*x**2+2*x\n",
        "tol = 0.01\n",
        "r1 = my_bisection (f, 1.1, 2, tol)\n",
        "print(\"r1 =\", r1)"
      ],
      "metadata": {
        "id": "urd_4QMQTFno",
        "outputId": "c484d99b-14db-48ea-ef33-456417e30eab",
        "colab": {
          "base_uri": "https://localhost:8080/"
        }
      },
      "execution_count": 168,
      "outputs": [
        {
          "output_type": "stream",
          "name": "stdout",
          "text": [
            "r1 = 1.996484375\n"
          ]
        }
      ]
    },
    {
      "cell_type": "code",
      "source": [
        "f = lambda x: np.sin(x)-x\n",
        "tol = 0.001\n",
        "r1 = my_bisection (f, 0, 1, tol)\n",
        "print(\"r1 =\", r1)"
      ],
      "metadata": {
        "colab": {
          "base_uri": "https://localhost:8080/"
        },
        "id": "ka3uY275VlIW",
        "outputId": "6dcddf3f-0532-45f0-c356-dce5db351d12"
      },
      "execution_count": 169,
      "outputs": [
        {
          "output_type": "stream",
          "name": "stdout",
          "text": [
            "r1 = 0.125\n"
          ]
        }
      ]
    },
    {
      "cell_type": "markdown",
      "source": [
        "# Newton Raphson"
      ],
      "metadata": {
        "id": "kLxnN1jTYBoU"
      }
    },
    {
      "cell_type": "code",
      "source": [
        "import numpy as np\n",
        "\n",
        "f = lambda x: x**3 - 3*x**2 + 2*x\n",
        "f_prime = lambda x: 3*x**2 - 6*x + 2"
      ],
      "metadata": {
        "id": "1dA71MrNVUlA"
      },
      "execution_count": 170,
      "outputs": []
    },
    {
      "cell_type": "markdown",
      "source": [],
      "metadata": {
        "id": "ARo82kTPQ4U1"
      }
    },
    {
      "cell_type": "code",
      "source": [
        "def my_newton (f, df, x0, tol):\n",
        "  max_iter=100\n",
        "  iter_count = 0\n",
        "  while abs (f(x0)) > tol and iter_count < max_iter:\n",
        "    print(f\"iterasi ke-{iter_count}: x = {x0:.6f},f(x) = {f(x0):6f}\")\n",
        "    if abs(df(x0))<1e-10:\n",
        "      print(\"zero derivative\")\n",
        "      return None\n",
        "    x0 = x0 - f(x0)/df(x0)\n",
        "    iter_count += 1\n",
        "  print(f\"iterasi ke-{iter_count}: x = {x0:.6f},f(x) = {f(x0):6f}\")\n",
        "  return x0"
      ],
      "metadata": {
        "id": "izIIcRSXJk97"
      },
      "execution_count": 177,
      "outputs": []
    },
    {
      "cell_type": "code",
      "source": [
        "x0 = 1.5\n",
        "tol = 0.01\n",
        "estimate = my_newton (f, f_prime, x0, tol)\n",
        "print (\"estimate = \", estimate)"
      ],
      "metadata": {
        "colab": {
          "base_uri": "https://localhost:8080/"
        },
        "id": "2DXgoPjeKByF",
        "outputId": "3e5a4e36-fd37-4921-acf4-ba88d59d2fc7"
      },
      "execution_count": 178,
      "outputs": [
        {
          "output_type": "stream",
          "name": "stdout",
          "text": [
            "iterasi ke-0: x = 1.500000,f(x) = 1.481689\n",
            "iterasi ke-1: x = 0.902951,f(x) = 0.660970\n",
            "iterasi ke-2: x = -0.512788,f(x) = 1.624399\n",
            "iterasi ke-3: x = 0.646524,f(x) = 0.615846\n",
            "iterasi ke-4: x = 7.406145,f(x) = 1631.256643\n",
            "iterasi ke-5: x = 6.413938,f(x) = 597.464591\n",
            "iterasi ke-6: x = 5.431739,f(x) = 217.682806\n",
            "iterasi ke-7: x = 4.470863,f(x) = 78.490427\n",
            "iterasi ke-8: x = 3.552117,f(x) = 27.782873\n",
            "iterasi ke-9: x = 2.707322,f(x) = 9.574438\n",
            "iterasi ke-10: x = 1.970208,f(x) = 3.231751\n",
            "iterasi ke-11: x = 1.345373,f(x) = 1.148872\n",
            "iterasi ke-12: x = 0.720856,f(x) = 0.614481\n",
            "iterasi ke-13: x = -10.214427,f(x) = 20.428891\n",
            "iterasi ke-14: x = 0.000205,f(x) = 0.999795\n",
            "iterasi ke-15: x = 1.000205,f(x) = 0.718429\n",
            "iterasi ke-16: x = 0.000777,f(x) = 0.999223\n",
            "iterasi ke-17: x = 1.000778,f(x) = 0.718841\n",
            "iterasi ke-18: x = 0.002937,f(x) = 0.997067\n",
            "iterasi ke-19: x = 1.002946,f(x) = 0.720410\n",
            "iterasi ke-20: x = 0.011058,f(x) = 0.989004\n",
            "iterasi ke-21: x = 1.011182,f(x) = 0.726484\n",
            "iterasi ke-22: x = 0.041045,f(x) = 0.959809\n",
            "iterasi ke-23: x = 1.042828,f(x) = 0.751573\n",
            "iterasi ke-24: x = 0.145137,f(x) = 0.865924\n",
            "iterasi ke-25: x = 1.171354,f(x) = 0.883650\n",
            "iterasi ke-26: x = 0.450806,f(x) = 0.667965\n",
            "iterasi ke-27: x = 2.002686,f(x) = 3.403559\n",
            "iterasi ke-28: x = 1.373438,f(x) = 1.202028\n",
            "iterasi ke-29: x = 0.756667,f(x) = 0.617827\n",
            "iterasi ke-30: x = -3.953765,f(x) = 7.926712\n",
            "iterasi ke-31: x = 0.047973,f(x) = 0.953197\n",
            "iterasi ke-32: x = 1.050432,f(x) = 0.758022\n",
            "iterasi ke-33: x = 0.167868,f(x) = 0.847045\n",
            "iterasi ke-34: x = 1.204363,f(x) = 0.925909\n",
            "iterasi ke-35: x = 0.510609,f(x) = 0.645088\n",
            "iterasi ke-36: x = 2.443782,f(x) = 6.628954\n",
            "iterasi ke-37: x = 1.747209,f(x) = 2.244146\n",
            "iterasi ke-38: x = 1.146940,f(x) = 0.854663\n",
            "iterasi ke-39: x = 0.402811,f(x) = 0.690402\n",
            "iterasi ke-40: x = 1.772721,f(x) = 2.341409\n",
            "iterasi ke-41: x = 1.170329,f(x) = 0.882395\n",
            "iterasi ke-42: x = 0.448860,f(x) = 0.668805\n",
            "iterasi ke-43: x = 1.991756,f(x) = 3.344878\n",
            "iterasi ke-44: x = 1.364009,f(x) = 1.183827\n",
            "iterasi ke-45: x = 0.744803,f(x) = 0.616420\n",
            "iterasi ke-46: x = -5.069046,f(x) = 10.144381\n",
            "iterasi ke-47: x = 0.019143,f(x) = 0.981042\n",
            "iterasi ke-48: x = 1.019519,f(x) = 0.732823\n",
            "iterasi ke-49: x = 0.070094,f(x) = 0.932421\n",
            "iterasi ke-50: x = 1.075518,f(x) = 0.780475\n",
            "iterasi ke-51: x = 0.237658,f(x) = 0.792959\n",
            "iterasi ke-52: x = 1.321344,f(x) = 1.105769\n",
            "iterasi ke-53: x = 0.688919,f(x) = 0.613723\n",
            "iterasi ke-54: x = 73.419897,f(x) = 76887536860710036449815200530432.000000\n",
            "iterasi ke-55: x = 72.419897,f(x) = 28285344093366683000711107575808.000000\n",
            "iterasi ke-56: x = 71.419897,f(x) = 10405596578409691440516746444800.000000\n",
            "iterasi ke-57: x = 70.419897,f(x) = 3828005054320829621451458871296.000000\n",
            "iterasi ke-58: x = 69.419897,f(x) = 1408244360185003650866145656832.000000\n",
            "iterasi ke-59: x = 68.419897,f(x) = 518064148257694443411853017088.000000\n",
            "iterasi ke-60: x = 67.419897,f(x) = 190585149351999873101607206912.000000\n",
            "iterasi ke-61: x = 66.419897,f(x) = 70112358239189585437854269440.000000\n",
            "iterasi ke-62: x = 65.419897,f(x) = 25792895168245035203213393920.000000\n",
            "iterasi ke-63: x = 64.419897,f(x) = 9488675860687578087221624832.000000\n",
            "iterasi ke-64: x = 63.419897,f(x) = 3490688773086701114829570048.000000\n",
            "iterasi ke-65: x = 62.419897,f(x) = 1284152635146563010598797312.000000\n",
            "iterasi ke-66: x = 61.419897,f(x) = 472413353796552731517779968.000000\n",
            "iterasi ke-67: x = 60.419897,f(x) = 173791160596602665884975104.000000\n",
            "iterasi ke-68: x = 59.419897,f(x) = 63934195040814578750455808.000000\n",
            "iterasi ke-69: x = 58.419897,f(x) = 23520075943360868831461376.000000\n",
            "iterasi ke-70: x = 57.419897,f(x) = 8652552394353479824441344.000000\n",
            "iterasi ke-71: x = 56.419897,f(x) = 3183096139541383233929216.000000\n",
            "iterasi ke-72: x = 55.419897,f(x) = 1170995629009459453362176.000000\n",
            "iterasi ke-73: x = 54.419897,f(x) = 430785217614201552371712.000000\n",
            "iterasi ke-74: x = 53.419897,f(x) = 158477025120830625939456.000000\n",
            "iterasi ke-75: x = 52.419897,f(x) = 58300439439963802566656.000000\n",
            "iterasi ke-76: x = 51.419897,f(x) = 21447533081223401308160.000000\n",
            "iterasi ke-77: x = 50.419897,f(x) = 7890106484426486579200.000000\n",
            "iterasi ke-78: x = 49.419897,f(x) = 2902607964273989124096.000000\n",
            "iterasi ke-79: x = 48.419897,f(x) = 1067809795836892938240.000000\n",
            "iterasi ke-80: x = 47.419897,f(x) = 392825270969868091392.000000\n",
            "iterasi ke-81: x = 46.419897,f(x) = 144512341162415489024.000000\n",
            "iterasi ke-82: x = 45.419897,f(x) = 53163119309206233088.000000\n",
            "iterasi ke-83: x = 44.419897,f(x) = 19557618622401503232.000000\n",
            "iterasi ke-84: x = 43.419897,f(x) = 7194845809453258752.000000\n",
            "iterasi ke-85: x = 42.419897,f(x) = 2646835855696358400.000000\n",
            "iterasi ke-86: x = 41.419897,f(x) = 973716495466112512.000000\n",
            "iterasi ke-87: x = 40.419897,f(x) = 358210280211488704.000000\n",
            "iterasi ke-88: x = 39.419897,f(x) = 131778197706068176.000000\n",
            "iterasi ke-89: x = 38.419897,f(x) = 48478489730688152.000000\n",
            "iterasi ke-90: x = 37.419897,f(x) = 17834239710961018.000000\n",
            "iterasi ke-91: x = 36.419897,f(x) = 6560850138585885.000000\n",
            "iterasi ke-92: x = 35.419897,f(x) = 2413601882592545.500000\n",
            "iterasi ke-93: x = 34.419897,f(x) = 887914511778469.250000\n",
            "iterasi ke-94: x = 33.419897,f(x) = 326645494401061.375000\n",
            "iterasi ke-95: x = 32.419897,f(x) = 120166161941415.593750\n",
            "iterasi ke-96: x = 31.419897,f(x) = 44206660502709.117188\n",
            "iterasi ke-97: x = 30.419897,f(x) = 16262721561776.935547\n",
            "iterasi ke-98: x = 29.419897,f(x) = 5982720920058.444336\n",
            "iterasi ke-99: x = 28.419897,f(x) = 2200920028741.512695\n",
            "iterasi ke-100: x = 27.419897,f(x) = 809673230222.705933\n",
            "estimate =  27.419896583806956\n"
          ]
        }
      ]
    },
    {
      "cell_type": "code",
      "source": [
        "import numpy as np\n",
        "\n",
        "f = lambda x: np.exp(x)-2*x\n",
        "f_prime = lambda x: np.exp(x)-2"
      ],
      "metadata": {
        "id": "llxv6bFyUR1x"
      },
      "execution_count": 173,
      "outputs": []
    },
    {
      "cell_type": "code",
      "source": [
        "def my_newton (f, df, x0, tol):\n",
        "  max_iter=100\n",
        "  iter_count = 0\n",
        "  while abs (f(x0)) > tol and iter_count < max_iter:\n",
        "    x0 = x0 - f(x0)/df(x0)\n",
        "    iter_count += 1\n",
        "  return x0"
      ],
      "metadata": {
        "id": "9NAB7vCbUxzH"
      },
      "execution_count": 174,
      "outputs": []
    },
    {
      "cell_type": "code",
      "source": [
        "x0 = 1\n",
        "tol = 0.001\n",
        "estimate = my_newton (f, f_prime, x0, tol)\n",
        "print (\"estimate = \", estimate)\n",
        "print (\"f(sqrt) = \",f(estimate))\n"
      ],
      "metadata": {
        "colab": {
          "base_uri": "https://localhost:8080/"
        },
        "id": "Nz_kVOmDU2W4",
        "outputId": "2710e7f0-81e5-46fd-f761-450bb5c908ec"
      },
      "execution_count": 175,
      "outputs": [
        {
          "output_type": "stream",
          "name": "stdout",
          "text": [
            "estimate =  1.0\n",
            "f(sqrt) =  0.7182818284590451\n"
          ]
        }
      ]
    }
  ]
}