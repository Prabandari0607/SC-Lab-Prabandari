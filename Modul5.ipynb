{
  "nbformat": 4,
  "nbformat_minor": 0,
  "metadata": {
    "colab": {
      "provenance": [],
      "authorship_tag": "ABX9TyNUKwYxldAhoLMyE24xwIB7",
      "include_colab_link": true
    },
    "kernelspec": {
      "name": "python3",
      "display_name": "Python 3"
    },
    "language_info": {
      "name": "python"
    }
  },
  "cells": [
    {
      "cell_type": "markdown",
      "metadata": {
        "id": "view-in-github",
        "colab_type": "text"
      },
      "source": [
        "<a href=\"https://colab.research.google.com/github/Prabandari0607/SC-Lab-Prabandari/blob/main/Modul5.ipynb\" target=\"_parent\"><img src=\"https://colab.research.google.com/assets/colab-badge.svg\" alt=\"Open In Colab\"/></a>"
      ]
    },
    {
      "cell_type": "markdown",
      "source": [
        "# Finite Difference"
      ],
      "metadata": {
        "id": "UXOu2qhV8jfU"
      }
    },
    {
      "cell_type": "code",
      "execution_count": 3,
      "metadata": {
        "id": "464gfxOb5a1D"
      },
      "outputs": [],
      "source": [
        "import numpy as np\n",
        "import matplotlib.pyplot as plt"
      ]
    },
    {
      "cell_type": "code",
      "source": [
        "x = np.array([0, 0.1, 0.2, 0.3, 0.4])\n",
        "y = np.array([0,0.0819, 0.1349, 0.1646, 0.1797])\n",
        "h= 0.1\n",
        "derivative_at_0 = (y[1] - y[0]) / h\n",
        "print(f\"f'(0) = {derivative_at_0:.4f}\")\n",
        "derivative_at_02 = (y[3] - y[1]) / (2 * h)\n",
        "print(f\"f'(0.2) = {derivative_at_02:.4f}\")"
      ],
      "metadata": {
        "colab": {
          "base_uri": "https://localhost:8080/"
        },
        "id": "z4uzi3z475Hf",
        "outputId": "39f20204-c3de-450b-c892-c214d005c1de"
      },
      "execution_count": 4,
      "outputs": [
        {
          "output_type": "stream",
          "name": "stdout",
          "text": [
            "f'(0) = 0.8190\n",
            "f'(0.2) = 0.4135\n"
          ]
        }
      ]
    },
    {
      "cell_type": "markdown",
      "source": [
        "# Trapezoidal Rule Integration"
      ],
      "metadata": {
        "id": "470RtA0g8vHT"
      }
    },
    {
      "cell_type": "code",
      "source": [
        "def trapezoidal(func, a, b, n):\n",
        "    h = (b - a) / n\n",
        "    x_vals = np.linspace(a, b, n + 1)\n",
        "    y_vals = func(x_vals)\n",
        "    return h * (y_vals[0] + 2 * np.sum(y_vals[1:-1]) + y_vals[-1]) / 2\n",
        "def integrand(x):\n",
        "    return np.sin(x)\n",
        "# Integration from 0 to π\n",
        "a, b = 0, np.pi\n",
        ""
      ],
      "metadata": {
        "id": "KuEdmmmY86UT"
      },
      "execution_count": 7,
      "outputs": []
    },
    {
      "cell_type": "code",
      "source": [
        "integral_8 = trapezoidal(integrand, a, b, 8)\n",
        "print(f\"8 panels: I = {integral_8:.6f}\")"
      ],
      "metadata": {
        "colab": {
          "base_uri": "https://localhost:8080/"
        },
        "id": "PIQdxslx9FtD",
        "outputId": "7b3a1cee-e950-4258-947a-d8b3c1352caa"
      },
      "execution_count": 8,
      "outputs": [
        {
          "output_type": "stream",
          "name": "stdout",
          "text": [
            "8 panels: I = 1.974232\n"
          ]
        }
      ]
    },
    {
      "cell_type": "code",
      "source": [
        "integral_16 = trapezoidal(integrand, a, b, 16)\n",
        "print(f\"16 panels: I = {integral_16:.6f}\")"
      ],
      "metadata": {
        "colab": {
          "base_uri": "https://localhost:8080/"
        },
        "id": "K6ZEhRPV89Xz",
        "outputId": "4e215954-b110-4a06-abf2-72a30e47e10c"
      },
      "execution_count": 9,
      "outputs": [
        {
          "output_type": "stream",
          "name": "stdout",
          "text": [
            "16 panels: I = 1.993570\n"
          ]
        }
      ]
    },
    {
      "cell_type": "code",
      "source": [
        "analytical = 2.0\n",
        "print(f\"Analytical: I = {analytical:.6f}\")\n",
        "print(f\"Error (8 panels): {abs(analytical - integral_8):.6f}\")\n",
        "print(f\"Error (16 panels): {abs(analytical - integral_16):.6f}\")"
      ],
      "metadata": {
        "colab": {
          "base_uri": "https://localhost:8080/"
        },
        "id": "SVlEvtaK9Pjd",
        "outputId": "115db107-26d7-450b-c0ee-ff78dd126fc1"
      },
      "execution_count": 10,
      "outputs": [
        {
          "output_type": "stream",
          "name": "stdout",
          "text": [
            "Analytical: I = 2.000000\n",
            "Error (8 panels): 0.025768\n",
            "Error (16 panels): 0.006430\n"
          ]
        }
      ]
    }
  ]
}